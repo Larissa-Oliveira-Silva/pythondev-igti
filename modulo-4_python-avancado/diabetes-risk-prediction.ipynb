{
  "nbformat": 4,
  "nbformat_minor": 0,
  "metadata": {
    "colab": {
      "name": "Trabalho Prático.ipynb",
      "provenance": [],
      "collapsed_sections": [],
      "toc_visible": true
    },
    "kernelspec": {
      "name": "python3",
      "display_name": "Python 3"
    }
  },
  "cells": [
    {
      "cell_type": "markdown",
      "metadata": {
        "id": "zUMSpb-4MXLJ",
        "colab_type": "text"
      },
      "source": [
        "# Trabalho Prático - Módulo IV\n",
        "**PYTHON AVANÇADO**\n",
        "\n",
        "---\n",
        "\n",
        "## Objetivos\n",
        "Exercitar os seguintes conceitos trabalhados no Módulo:\n",
        "\n",
        "- Python para aprendizado de máquina\n",
        "- Programação concorrente com Python\n",
        "\n",
        "\n",
        "## Enunciado\n",
        "A linguagem Python é bastante utilizada no meio da ciência de dados e do aprendizado de máquina. Outras áreas do conhecimento, como a matemática, a física e a probabilidade, também a empregam bastante para ajudar a simular e a resolver problemas através da programação. Boa parte da popularidade dessa linguagem está relacionada à forma como o código é construído e à sua facilidade de leitura e de interpretação.\n",
        "\n",
        "Neste trabalho, será utilizado o scikit-learn e os conceitos apresentados na disciplina para a realização de uma análise de dados baseada em modelos de aprendizado de máquina. Para isso, será utilizado um conjunto de dados público. Esse conjunto de dados consiste em uma pesquisa realizada com um grupo de mulheres. Nessa pesquisa, foram coletados alguns indicadores sobre a saúde e os hábitos dessas pacientes, como número de vezes em que engravidou, seu nível de glicose, sua pressão sanguínea, etc., a fim de prever se a ela vai ou não desenvolver a diabetes. Na última coluna do conjunto de dados (outcome), o valor “1” indica que a paciente possui diabetes, e “0” indica que não. Desse modo, será possível utilizar os algoritmos apresentados e o scikit-learn para tentar prever a ocorrência ou não da doença."
      ]
    },
    {
      "cell_type": "markdown",
      "metadata": {
        "id": "7bFoIwVCNNPB",
        "colab_type": "text"
      },
      "source": [
        "## Código 1\n",
        "\n",
        "Deve ser utilizado para as questões de concorrência:"
      ]
    },
    {
      "cell_type": "code",
      "metadata": {
        "id": "JX7eaUbpMUC0",
        "colab_type": "code",
        "colab": {}
      },
      "source": [
        "# importações\n",
        "import threading\n",
        "import time\n",
        "from random import randint"
      ],
      "execution_count": null,
      "outputs": []
    },
    {
      "cell_type": "code",
      "metadata": {
        "id": "YVjWEGdSNkz7",
        "colab_type": "code",
        "colab": {}
      },
      "source": [
        "def funcao_1(num):\n",
        "    n = num\n",
        "    while n > 0:\n",
        "        n -= 1\n",
        "        print('n_1: {}'.format(n))\n",
        "        time.sleep(randint(0, 2))\n"
      ],
      "execution_count": null,
      "outputs": []
    },
    {
      "cell_type": "code",
      "metadata": {
        "id": "k6W9jjk4N55J",
        "colab_type": "code",
        "colab": {}
      },
      "source": [
        "def funcao_2(num):\n",
        "    n = num\n",
        "    while n < 100:\n",
        "        n += 1\n",
        "        print('n_2: {}'.format(n))\n",
        "        time.sleep(randint(0, 2))\n"
      ],
      "execution_count": null,
      "outputs": []
    },
    {
      "cell_type": "code",
      "metadata": {
        "id": "7Ajk8bwBORrA",
        "colab_type": "code",
        "colab": {}
      },
      "source": [
        "if __name__ == \"__main__\":\n",
        "\n",
        "    t1 = threading.Thread(target = funcao_1, args=(100,))\n",
        "    t2 = threading.Thread(target = funcao_2, args=(0,))\n",
        "\n",
        "    t1.start()\n",
        "    t2.start()\n",
        "\n",
        "    t1.join()\n",
        "    t2.join()\n",
        "\n",
        "    print('Fim!')"
      ],
      "execution_count": null,
      "outputs": []
    },
    {
      "cell_type": "markdown",
      "metadata": {
        "id": "bt3ZPuoFPbst",
        "colab_type": "text"
      },
      "source": [
        "## Atividades preparativas\n",
        "\n",
        "Preparar o ambiente de trabalho com as seguintes definições"
      ]
    },
    {
      "cell_type": "markdown",
      "metadata": {
        "id": "wU6-pvB-QKSi",
        "colab_type": "text"
      },
      "source": [
        "### Importar o dataset para o notebook\n",
        "\n",
        "\"dataset_diabetes.csv\""
      ]
    },
    {
      "cell_type": "markdown",
      "metadata": {
        "id": "jl6tLZ_wQafm",
        "colab_type": "text"
      },
      "source": [
        "### Implementação dos seguintes algoritmos:"
      ]
    },
    {
      "cell_type": "markdown",
      "metadata": {
        "id": "3xqsHq0hQqf4",
        "colab_type": "text"
      },
      "source": [
        "**Algoritmo kNN**"
      ]
    },
    {
      "cell_type": "code",
      "metadata": {
        "id": "2mmrX73JQlgy",
        "colab_type": "code",
        "colab": {}
      },
      "source": [
        "# clf_KNN = KNeighborsClassifier(n_neighbors=5)\n"
      ],
      "execution_count": null,
      "outputs": []
    },
    {
      "cell_type": "markdown",
      "metadata": {
        "id": "cjn0WNQFQuaj",
        "colab_type": "text"
      },
      "source": [
        "**Algoritmo Árvore de decisão**"
      ]
    },
    {
      "cell_type": "code",
      "metadata": {
        "id": "wHXgdoxVRG4J",
        "colab_type": "code",
        "colab": {}
      },
      "source": [
        "# clf_arvore = DecisionTreeClassifier(random_state=1)"
      ],
      "execution_count": null,
      "outputs": []
    },
    {
      "cell_type": "markdown",
      "metadata": {
        "id": "wBsNH1vnQy25",
        "colab_type": "text"
      },
      "source": [
        "**Algoritmo Floresta Randômica**"
      ]
    },
    {
      "cell_type": "code",
      "metadata": {
        "id": "mHIv7xK4RJcQ",
        "colab_type": "code",
        "colab": {}
      },
      "source": [
        "# clf_floresta = RandomForestClassifier(max_depth=10, random_state=1)"
      ],
      "execution_count": null,
      "outputs": []
    },
    {
      "cell_type": "markdown",
      "metadata": {
        "id": "6xvLIvk1Q6FH",
        "colab_type": "text"
      },
      "source": [
        "**Algoritmo SVM**"
      ]
    },
    {
      "cell_type": "code",
      "metadata": {
        "id": "kwmx3KEZRLHR",
        "colab_type": "code",
        "colab": {}
      },
      "source": [
        "# clf_svm=SVC(gamma='auto',random_state=1)"
      ],
      "execution_count": null,
      "outputs": []
    },
    {
      "cell_type": "markdown",
      "metadata": {
        "id": "PdhievYgQ9sN",
        "colab_type": "text"
      },
      "source": [
        "**Algoritmo Rede MLP**"
      ]
    },
    {
      "cell_type": "code",
      "metadata": {
        "id": "uSo-6os4RN8I",
        "colab_type": "code",
        "colab": {}
      },
      "source": [
        "# clf_mlp = MLPClassifier(solver='lbfgs', alpha=1e-5, hidden_layer_sizes=(5, 5), random_state=1)"
      ],
      "execution_count": null,
      "outputs": []
    },
    {
      "cell_type": "markdown",
      "metadata": {
        "id": "VoO7SNZwRSAi",
        "colab_type": "text"
      },
      "source": [
        "### Observações"
      ]
    },
    {
      "cell_type": "markdown",
      "metadata": {
        "id": "N56oR029RYcZ",
        "colab_type": "text"
      },
      "source": [
        "- Utilize como entrada as colunas: **Pregnancies, Glucose, BloodPressure, SkinThickness, Insulin, BMI, DiabetesPedigreeFunction e Age**. A saída para os\n",
        "algoritmos deve ser a coluna **Outcome**.\n",
        "\n",
        "- Realize a carga dos valores utilizando o método pandas.read_csv()\n",
        "\n",
        "- Utilize, para normalização dos dados, as definições:"
      ]
    },
    {
      "cell_type": "code",
      "metadata": {
        "id": "uA8sB2MPRmrK",
        "colab_type": "code",
        "colab": {}
      },
      "source": [
        "#objeto para a normalização\n",
        "# normaliza = MinMaxScaler() \n",
        "\n",
        "# entradas_normalizadas=normaliza.fit_transform(entradas)\n"
      ],
      "execution_count": null,
      "outputs": []
    },
    {
      "cell_type": "markdown",
      "metadata": {
        "id": "bGdyyUjDR2ZE",
        "colab_type": "text"
      },
      "source": [
        "- Utilize, para divisão entre treinamento e teste do algoritmo, as definições: "
      ]
    },
    {
      "cell_type": "code",
      "metadata": {
        "id": "0osKVNcSR5ma",
        "colab_type": "code",
        "colab": {}
      },
      "source": [
        "# train_test_split(entradas_normalizadas, saida,test_size=0.30,random_state=42)\n"
      ],
      "execution_count": null,
      "outputs": []
    },
    {
      "cell_type": "markdown",
      "metadata": {
        "id": "7g7RvvPeSElD",
        "colab_type": "text"
      },
      "source": [
        "- Utilize esta sequência de operações para chegar no resultado final:\n",
        " - Divida os dados entre entrada e saída;\n",
        " - Normalize apenas as entradas utilizando o **MinMaxScaler**;\n",
        " - Aplique a divisão entre o treinamento e o teste com o **train_test_split**.\n",
        "\n",
        " - Utilize os dados de “teste” para avaliar as previsões de classificação dos modelos. "
      ]
    },
    {
      "cell_type": "markdown",
      "metadata": {
        "id": "vHKMxmR0SrpD",
        "colab_type": "text"
      },
      "source": [
        "**Após as implementações, as questões objetivas deverão ser respondidas**"
      ]
    },
    {
      "cell_type": "markdown",
      "metadata": {
        "id": "CBW0sJd2S5Fe",
        "colab_type": "text"
      },
      "source": [
        "## Implementação do Modelo"
      ]
    },
    {
      "cell_type": "markdown",
      "metadata": {
        "id": "dhyePoh1gASg",
        "colab_type": "text"
      },
      "source": [
        "### Modelagem dos dados"
      ]
    },
    {
      "cell_type": "code",
      "metadata": {
        "id": "Ag8lCZ4NTLbj",
        "colab_type": "code",
        "colab": {}
      },
      "source": [
        "# Importações das bibliotecas a serem utilizadas\n",
        "\n",
        "import pandas as pd\n",
        "import numpy as np\n",
        "\n",
        "from pandas import DataFrame\n",
        "from sklearn import neighbors\n",
        "from sklearn import metrics\n",
        "\n",
        "from sklearn.neighbors import KNeighborsClassifier\n",
        "from sklearn.tree import DecisionTreeClassifier\n",
        "from sklearn.ensemble import RandomForestClassifier\n",
        "from sklearn.svm import SVC\n",
        "from sklearn.neural_network import MLPClassifier\n",
        "\n",
        "from sklearn.model_selection import train_test_split\n",
        "from sklearn.preprocessing import MinMaxScaler\n",
        "from sklearn.metrics import classification_report, accuracy_score"
      ],
      "execution_count": null,
      "outputs": []
    },
    {
      "cell_type": "code",
      "metadata": {
        "id": "tg0Vz1Fcb_qt",
        "colab_type": "code",
        "colab": {}
      },
      "source": [
        "# Importação do Dataset\n",
        "\n",
        "df = DataFrame(pd.read_csv('/content/datasets_diabetes.csv'))"
      ],
      "execution_count": null,
      "outputs": []
    },
    {
      "cell_type": "code",
      "metadata": {
        "id": "KgTpp51CcQA7",
        "colab_type": "code",
        "colab": {
          "base_uri": "https://localhost:8080/",
          "height": 204
        },
        "outputId": "b7d1c833-5bb5-477f-d464-458c63b09c70"
      },
      "source": [
        "# Visualizando o dataframe\n",
        "df.head()"
      ],
      "execution_count": null,
      "outputs": [
        {
          "output_type": "execute_result",
          "data": {
            "text/html": [
              "<div>\n",
              "<style scoped>\n",
              "    .dataframe tbody tr th:only-of-type {\n",
              "        vertical-align: middle;\n",
              "    }\n",
              "\n",
              "    .dataframe tbody tr th {\n",
              "        vertical-align: top;\n",
              "    }\n",
              "\n",
              "    .dataframe thead th {\n",
              "        text-align: right;\n",
              "    }\n",
              "</style>\n",
              "<table border=\"1\" class=\"dataframe\">\n",
              "  <thead>\n",
              "    <tr style=\"text-align: right;\">\n",
              "      <th></th>\n",
              "      <th>Pregnancies</th>\n",
              "      <th>Glucose</th>\n",
              "      <th>BloodPressure</th>\n",
              "      <th>SkinThickness</th>\n",
              "      <th>Insulin</th>\n",
              "      <th>BMI</th>\n",
              "      <th>DiabetesPedigreeFunction</th>\n",
              "      <th>Age</th>\n",
              "      <th>Outcome</th>\n",
              "    </tr>\n",
              "  </thead>\n",
              "  <tbody>\n",
              "    <tr>\n",
              "      <th>0</th>\n",
              "      <td>6</td>\n",
              "      <td>148</td>\n",
              "      <td>72</td>\n",
              "      <td>35</td>\n",
              "      <td>0</td>\n",
              "      <td>33.6</td>\n",
              "      <td>0.627</td>\n",
              "      <td>50</td>\n",
              "      <td>1</td>\n",
              "    </tr>\n",
              "    <tr>\n",
              "      <th>1</th>\n",
              "      <td>1</td>\n",
              "      <td>85</td>\n",
              "      <td>66</td>\n",
              "      <td>29</td>\n",
              "      <td>0</td>\n",
              "      <td>26.6</td>\n",
              "      <td>0.351</td>\n",
              "      <td>31</td>\n",
              "      <td>0</td>\n",
              "    </tr>\n",
              "    <tr>\n",
              "      <th>2</th>\n",
              "      <td>8</td>\n",
              "      <td>183</td>\n",
              "      <td>64</td>\n",
              "      <td>0</td>\n",
              "      <td>0</td>\n",
              "      <td>23.3</td>\n",
              "      <td>0.672</td>\n",
              "      <td>32</td>\n",
              "      <td>1</td>\n",
              "    </tr>\n",
              "    <tr>\n",
              "      <th>3</th>\n",
              "      <td>1</td>\n",
              "      <td>89</td>\n",
              "      <td>66</td>\n",
              "      <td>23</td>\n",
              "      <td>94</td>\n",
              "      <td>28.1</td>\n",
              "      <td>0.167</td>\n",
              "      <td>21</td>\n",
              "      <td>0</td>\n",
              "    </tr>\n",
              "    <tr>\n",
              "      <th>4</th>\n",
              "      <td>0</td>\n",
              "      <td>137</td>\n",
              "      <td>40</td>\n",
              "      <td>35</td>\n",
              "      <td>168</td>\n",
              "      <td>43.1</td>\n",
              "      <td>2.288</td>\n",
              "      <td>33</td>\n",
              "      <td>1</td>\n",
              "    </tr>\n",
              "  </tbody>\n",
              "</table>\n",
              "</div>"
            ],
            "text/plain": [
              "   Pregnancies  Glucose  BloodPressure  ...  DiabetesPedigreeFunction  Age  Outcome\n",
              "0            6      148             72  ...                     0.627   50        1\n",
              "1            1       85             66  ...                     0.351   31        0\n",
              "2            8      183             64  ...                     0.672   32        1\n",
              "3            1       89             66  ...                     0.167   21        0\n",
              "4            0      137             40  ...                     2.288   33        1\n",
              "\n",
              "[5 rows x 9 columns]"
            ]
          },
          "metadata": {
            "tags": []
          },
          "execution_count": 8
        }
      ]
    },
    {
      "cell_type": "code",
      "metadata": {
        "id": "gOaRJHnJcxkp",
        "colab_type": "code",
        "colab": {
          "base_uri": "https://localhost:8080/",
          "height": 317
        },
        "outputId": "9e9722a1-c769-49df-b148-ab151b2ece04"
      },
      "source": [
        "# Dimensões do Dataframe\n",
        "df.describe()"
      ],
      "execution_count": null,
      "outputs": [
        {
          "output_type": "execute_result",
          "data": {
            "text/html": [
              "<div>\n",
              "<style scoped>\n",
              "    .dataframe tbody tr th:only-of-type {\n",
              "        vertical-align: middle;\n",
              "    }\n",
              "\n",
              "    .dataframe tbody tr th {\n",
              "        vertical-align: top;\n",
              "    }\n",
              "\n",
              "    .dataframe thead th {\n",
              "        text-align: right;\n",
              "    }\n",
              "</style>\n",
              "<table border=\"1\" class=\"dataframe\">\n",
              "  <thead>\n",
              "    <tr style=\"text-align: right;\">\n",
              "      <th></th>\n",
              "      <th>Pregnancies</th>\n",
              "      <th>Glucose</th>\n",
              "      <th>BloodPressure</th>\n",
              "      <th>SkinThickness</th>\n",
              "      <th>Insulin</th>\n",
              "      <th>BMI</th>\n",
              "      <th>DiabetesPedigreeFunction</th>\n",
              "      <th>Age</th>\n",
              "      <th>Outcome</th>\n",
              "    </tr>\n",
              "  </thead>\n",
              "  <tbody>\n",
              "    <tr>\n",
              "      <th>count</th>\n",
              "      <td>768.000000</td>\n",
              "      <td>768.000000</td>\n",
              "      <td>768.000000</td>\n",
              "      <td>768.000000</td>\n",
              "      <td>768.000000</td>\n",
              "      <td>768.000000</td>\n",
              "      <td>768.000000</td>\n",
              "      <td>768.000000</td>\n",
              "      <td>768.000000</td>\n",
              "    </tr>\n",
              "    <tr>\n",
              "      <th>mean</th>\n",
              "      <td>3.845052</td>\n",
              "      <td>120.894531</td>\n",
              "      <td>69.105469</td>\n",
              "      <td>20.536458</td>\n",
              "      <td>79.799479</td>\n",
              "      <td>31.992578</td>\n",
              "      <td>0.471876</td>\n",
              "      <td>33.240885</td>\n",
              "      <td>0.348958</td>\n",
              "    </tr>\n",
              "    <tr>\n",
              "      <th>std</th>\n",
              "      <td>3.369578</td>\n",
              "      <td>31.972618</td>\n",
              "      <td>19.355807</td>\n",
              "      <td>15.952218</td>\n",
              "      <td>115.244002</td>\n",
              "      <td>7.884160</td>\n",
              "      <td>0.331329</td>\n",
              "      <td>11.760232</td>\n",
              "      <td>0.476951</td>\n",
              "    </tr>\n",
              "    <tr>\n",
              "      <th>min</th>\n",
              "      <td>0.000000</td>\n",
              "      <td>0.000000</td>\n",
              "      <td>0.000000</td>\n",
              "      <td>0.000000</td>\n",
              "      <td>0.000000</td>\n",
              "      <td>0.000000</td>\n",
              "      <td>0.078000</td>\n",
              "      <td>21.000000</td>\n",
              "      <td>0.000000</td>\n",
              "    </tr>\n",
              "    <tr>\n",
              "      <th>25%</th>\n",
              "      <td>1.000000</td>\n",
              "      <td>99.000000</td>\n",
              "      <td>62.000000</td>\n",
              "      <td>0.000000</td>\n",
              "      <td>0.000000</td>\n",
              "      <td>27.300000</td>\n",
              "      <td>0.243750</td>\n",
              "      <td>24.000000</td>\n",
              "      <td>0.000000</td>\n",
              "    </tr>\n",
              "    <tr>\n",
              "      <th>50%</th>\n",
              "      <td>3.000000</td>\n",
              "      <td>117.000000</td>\n",
              "      <td>72.000000</td>\n",
              "      <td>23.000000</td>\n",
              "      <td>30.500000</td>\n",
              "      <td>32.000000</td>\n",
              "      <td>0.372500</td>\n",
              "      <td>29.000000</td>\n",
              "      <td>0.000000</td>\n",
              "    </tr>\n",
              "    <tr>\n",
              "      <th>75%</th>\n",
              "      <td>6.000000</td>\n",
              "      <td>140.250000</td>\n",
              "      <td>80.000000</td>\n",
              "      <td>32.000000</td>\n",
              "      <td>127.250000</td>\n",
              "      <td>36.600000</td>\n",
              "      <td>0.626250</td>\n",
              "      <td>41.000000</td>\n",
              "      <td>1.000000</td>\n",
              "    </tr>\n",
              "    <tr>\n",
              "      <th>max</th>\n",
              "      <td>17.000000</td>\n",
              "      <td>199.000000</td>\n",
              "      <td>122.000000</td>\n",
              "      <td>99.000000</td>\n",
              "      <td>846.000000</td>\n",
              "      <td>67.100000</td>\n",
              "      <td>2.420000</td>\n",
              "      <td>81.000000</td>\n",
              "      <td>1.000000</td>\n",
              "    </tr>\n",
              "  </tbody>\n",
              "</table>\n",
              "</div>"
            ],
            "text/plain": [
              "       Pregnancies     Glucose  ...         Age     Outcome\n",
              "count   768.000000  768.000000  ...  768.000000  768.000000\n",
              "mean      3.845052  120.894531  ...   33.240885    0.348958\n",
              "std       3.369578   31.972618  ...   11.760232    0.476951\n",
              "min       0.000000    0.000000  ...   21.000000    0.000000\n",
              "25%       1.000000   99.000000  ...   24.000000    0.000000\n",
              "50%       3.000000  117.000000  ...   29.000000    0.000000\n",
              "75%       6.000000  140.250000  ...   41.000000    1.000000\n",
              "max      17.000000  199.000000  ...   81.000000    1.000000\n",
              "\n",
              "[8 rows x 9 columns]"
            ]
          },
          "metadata": {
            "tags": []
          },
          "execution_count": 15
        }
      ]
    },
    {
      "cell_type": "code",
      "metadata": {
        "id": "2n_xB641erWz",
        "colab_type": "code",
        "colab": {}
      },
      "source": [
        "# Transformando os dados em array\n",
        "entradas = df.iloc[:, :-1].values  #dados de entrada (todas as linhas, e todas as colunas menos a última)\n",
        "saida = df.iloc[:, 8].values  # saídas ou target (todas as linhas, coluna 8, que é a última)"
      ],
      "execution_count": null,
      "outputs": []
    },
    {
      "cell_type": "code",
      "metadata": {
        "id": "MEj_gfpefEoh",
        "colab_type": "code",
        "colab": {}
      },
      "source": [
        "# Normalização dos dados\n",
        "normaliza = MinMaxScaler()\n",
        "\n",
        "entradas_normalizadas=normaliza.fit_transform(entradas)"
      ],
      "execution_count": null,
      "outputs": []
    },
    {
      "cell_type": "code",
      "metadata": {
        "id": "h-b5zoJufgXn",
        "colab_type": "code",
        "colab": {}
      },
      "source": [
        "# Divisão dos dados entre treinamento e teste\n",
        "X_train, X_test, y_train, y_test = train_test_split(entradas_normalizadas, saida, test_size=0.30,random_state=42);\n",
        "# Dividindo 30% para teste"
      ],
      "execution_count": null,
      "outputs": []
    },
    {
      "cell_type": "markdown",
      "metadata": {
        "id": "HSoDPk7OgxSU",
        "colab_type": "text"
      },
      "source": [
        "### Instanciando os classificadores"
      ]
    },
    {
      "cell_type": "markdown",
      "metadata": {
        "id": "xwP3wdxwg0op",
        "colab_type": "text"
      },
      "source": [
        "**KNN**"
      ]
    },
    {
      "cell_type": "code",
      "metadata": {
        "id": "-VTxYUtlhZCH",
        "colab_type": "code",
        "colab": {}
      },
      "source": [
        "clf_KNN = KNeighborsClassifier(n_neighbors=5)"
      ],
      "execution_count": null,
      "outputs": []
    },
    {
      "cell_type": "markdown",
      "metadata": {
        "id": "BwhmlcDdg4lW",
        "colab_type": "text"
      },
      "source": [
        "**Árvore de decisão**"
      ]
    },
    {
      "cell_type": "code",
      "metadata": {
        "id": "_L7z4PsnhcsO",
        "colab_type": "code",
        "colab": {}
      },
      "source": [
        "clf_arvore = DecisionTreeClassifier(random_state=1)"
      ],
      "execution_count": null,
      "outputs": []
    },
    {
      "cell_type": "markdown",
      "metadata": {
        "id": "yjoywbKYg7IZ",
        "colab_type": "text"
      },
      "source": [
        "**Floresta Randômica**"
      ]
    },
    {
      "cell_type": "code",
      "metadata": {
        "id": "ndErK9lahfWw",
        "colab_type": "code",
        "colab": {}
      },
      "source": [
        "clf_floresta = RandomForestClassifier(max_depth=10, random_state=1)"
      ],
      "execution_count": null,
      "outputs": []
    },
    {
      "cell_type": "markdown",
      "metadata": {
        "id": "Cq8T79v7hEkX",
        "colab_type": "text"
      },
      "source": [
        "**SVM**"
      ]
    },
    {
      "cell_type": "code",
      "metadata": {
        "id": "xOasTu2ghi_m",
        "colab_type": "code",
        "colab": {}
      },
      "source": [
        "clf_svm=SVC(gamma='auto',random_state=1)"
      ],
      "execution_count": null,
      "outputs": []
    },
    {
      "cell_type": "markdown",
      "metadata": {
        "id": "7wld6qF5hSBm",
        "colab_type": "text"
      },
      "source": [
        "**Rede MLP**"
      ]
    },
    {
      "cell_type": "code",
      "metadata": {
        "id": "nJUSvmt_hl07",
        "colab_type": "code",
        "colab": {}
      },
      "source": [
        "clf_mlp = MLPClassifier(solver='lbfgs', alpha=1e-5, hidden_layer_sizes=(5, 5), random_state=1)"
      ],
      "execution_count": null,
      "outputs": []
    },
    {
      "cell_type": "markdown",
      "metadata": {
        "id": "a-GMx0cXTDCB",
        "colab_type": "text"
      },
      "source": [
        "## Respostas Finais"
      ]
    },
    {
      "cell_type": "markdown",
      "metadata": {
        "id": "wTThMO9PTWO5",
        "colab_type": "text"
      },
      "source": [
        "### Pergunta 1\n",
        "\n",
        "**Após a utilização da biblioteca pandas para a leitura dos dados e o método pandas.info() sobre o _dataframe_ construído, é CORRETO afirmar que:**\n",
        "\n",
        "a) Existem apenas 2 características do tipo “string”.\n",
        "\n",
        "b) Os valores nulos encontrados estão presentes apenas na variável “Pregnancies”.\n",
        "\n",
        "c) Os valores nulos estão presentes apenas para a saída dos dados.\n",
        "\n",
        "d) Não foram encontrados valores nulos após a leitura dos dados."
      ]
    },
    {
      "cell_type": "code",
      "metadata": {
        "id": "BjKV-B-Oc_ju",
        "colab_type": "code",
        "colab": {
          "base_uri": "https://localhost:8080/",
          "height": 289
        },
        "outputId": "5df0ce16-e81a-436b-ff8d-debdd4d51e9d"
      },
      "source": [
        "df.info()"
      ],
      "execution_count": null,
      "outputs": [
        {
          "output_type": "stream",
          "text": [
            "<class 'pandas.core.frame.DataFrame'>\n",
            "RangeIndex: 768 entries, 0 to 767\n",
            "Data columns (total 9 columns):\n",
            " #   Column                    Non-Null Count  Dtype  \n",
            "---  ------                    --------------  -----  \n",
            " 0   Pregnancies               768 non-null    int64  \n",
            " 1   Glucose                   768 non-null    int64  \n",
            " 2   BloodPressure             768 non-null    int64  \n",
            " 3   SkinThickness             768 non-null    int64  \n",
            " 4   Insulin                   768 non-null    int64  \n",
            " 5   BMI                       768 non-null    float64\n",
            " 6   DiabetesPedigreeFunction  768 non-null    float64\n",
            " 7   Age                       768 non-null    int64  \n",
            " 8   Outcome                   768 non-null    int64  \n",
            "dtypes: float64(2), int64(7)\n",
            "memory usage: 54.1 KB\n"
          ],
          "name": "stdout"
        }
      ]
    },
    {
      "cell_type": "code",
      "metadata": {
        "id": "xblyFGZ7dRyp",
        "colab_type": "code",
        "colab": {}
      },
      "source": [
        "# Resposta:\n",
        "# Não foram encontrados valores nulos após a leitura dos dados."
      ],
      "execution_count": null,
      "outputs": []
    },
    {
      "cell_type": "markdown",
      "metadata": {
        "id": "v9Vz3M51UcEF",
        "colab_type": "text"
      },
      "source": [
        "###Pergunta 2\n",
        "\n",
        "**Quantas linhas e colunas, respectivamente, existem no dataset?**\n",
        "\n",
        "a) 846 e 11.\n",
        "\n",
        "b) 9 e 768.\n",
        "\n",
        "c) 11 e 846.\n",
        "\n",
        "d) 768 e 9."
      ]
    },
    {
      "cell_type": "code",
      "metadata": {
        "id": "Di0G5vO9c7f4",
        "colab_type": "code",
        "colab": {
          "base_uri": "https://localhost:8080/",
          "height": 34
        },
        "outputId": "872d5d21-1860-4698-bb8a-9e0ff8011280"
      },
      "source": [
        "df.shape"
      ],
      "execution_count": null,
      "outputs": [
        {
          "output_type": "execute_result",
          "data": {
            "text/plain": [
              "(768, 9)"
            ]
          },
          "metadata": {
            "tags": []
          },
          "execution_count": 10
        }
      ]
    },
    {
      "cell_type": "code",
      "metadata": {
        "id": "UshsKHVudVc6",
        "colab_type": "code",
        "colab": {}
      },
      "source": [
        "# Resposta:\n",
        "# 768, 9"
      ],
      "execution_count": null,
      "outputs": []
    },
    {
      "cell_type": "markdown",
      "metadata": {
        "id": "HapYg3vJUrXt",
        "colab_type": "text"
      },
      "source": [
        "### Pergunta 3\n",
        "\n",
        "**Quantas colunas do tipo “float64” existem no dataset após a carga dos dados através do método pandas.read_csv()?**\n",
        "\n",
        "a) 8\n",
        "\n",
        "b) 2\n",
        "\n",
        "c) 6\n",
        "\n",
        "D) 4"
      ]
    },
    {
      "cell_type": "code",
      "metadata": {
        "id": "xLR43g9wdi36",
        "colab_type": "code",
        "colab": {
          "base_uri": "https://localhost:8080/",
          "height": 289
        },
        "outputId": "9678d780-f64b-4b95-8537-d83742a4b611"
      },
      "source": [
        "df.info()"
      ],
      "execution_count": null,
      "outputs": [
        {
          "output_type": "stream",
          "text": [
            "<class 'pandas.core.frame.DataFrame'>\n",
            "RangeIndex: 768 entries, 0 to 767\n",
            "Data columns (total 9 columns):\n",
            " #   Column                    Non-Null Count  Dtype  \n",
            "---  ------                    --------------  -----  \n",
            " 0   Pregnancies               768 non-null    int64  \n",
            " 1   Glucose                   768 non-null    int64  \n",
            " 2   BloodPressure             768 non-null    int64  \n",
            " 3   SkinThickness             768 non-null    int64  \n",
            " 4   Insulin                   768 non-null    int64  \n",
            " 5   BMI                       768 non-null    float64\n",
            " 6   DiabetesPedigreeFunction  768 non-null    float64\n",
            " 7   Age                       768 non-null    int64  \n",
            " 8   Outcome                   768 non-null    int64  \n",
            "dtypes: float64(2), int64(7)\n",
            "memory usage: 54.1 KB\n"
          ],
          "name": "stdout"
        }
      ]
    },
    {
      "cell_type": "code",
      "metadata": {
        "id": "IF5yPqfpdkao",
        "colab_type": "code",
        "colab": {}
      },
      "source": [
        "# Resposta:\n",
        "# 2 colunas"
      ],
      "execution_count": null,
      "outputs": []
    },
    {
      "cell_type": "markdown",
      "metadata": {
        "id": "1NCyVDbUU8kg",
        "colab_type": "text"
      },
      "source": [
        "### Pergunta 4 \n",
        "\n",
        "**Qual é o valor médio presente na coluna “Age”?**\n",
        "\n",
        "a) 20,53.\n",
        "\n",
        "b) 33,24.\n",
        "\n",
        "c) 29,16.\n",
        "\n",
        "d) 11,76."
      ]
    },
    {
      "cell_type": "code",
      "metadata": {
        "id": "cX68ZxAfd2Ac",
        "colab_type": "code",
        "colab": {
          "base_uri": "https://localhost:8080/",
          "height": 34
        },
        "outputId": "689bee4e-e213-48bf-8e31-7fd1e42ea7b0"
      },
      "source": [
        "df['Age'].mean()"
      ],
      "execution_count": null,
      "outputs": [
        {
          "output_type": "execute_result",
          "data": {
            "text/plain": [
              "33.240885416666664"
            ]
          },
          "metadata": {
            "tags": []
          },
          "execution_count": 16
        }
      ]
    },
    {
      "cell_type": "code",
      "metadata": {
        "id": "K35iEBs2d_kZ",
        "colab_type": "code",
        "colab": {}
      },
      "source": [
        "# Resposta:\n",
        "# 33,24"
      ],
      "execution_count": null,
      "outputs": []
    },
    {
      "cell_type": "markdown",
      "metadata": {
        "id": "Cwe1QGoAVHg7",
        "colab_type": "text"
      },
      "source": [
        "### Pergunta 5\n",
        "\n",
        "**Utilizando as entradas e a saída como apresentado no enunciado do trabalho,\n",
        "quantos valores da variável de saída “1” existem no conjunto de dados?**\n",
        "\n",
        "a) 268\n",
        "\n",
        "b) 218\n",
        "\n",
        "c) 500\n",
        "\n",
        "d) 346"
      ]
    },
    {
      "cell_type": "code",
      "metadata": {
        "id": "rENlqK2FhxU7",
        "colab_type": "code",
        "colab": {
          "base_uri": "https://localhost:8080/",
          "height": 187
        },
        "outputId": "690647de-e625-47ec-cd6e-a3843867979e"
      },
      "source": [
        "df[df['Outcome'] == 1].count()"
      ],
      "execution_count": null,
      "outputs": [
        {
          "output_type": "execute_result",
          "data": {
            "text/plain": [
              "Pregnancies                 268\n",
              "Glucose                     268\n",
              "BloodPressure               268\n",
              "SkinThickness               268\n",
              "Insulin                     268\n",
              "BMI                         268\n",
              "DiabetesPedigreeFunction    268\n",
              "Age                         268\n",
              "Outcome                     268\n",
              "dtype: int64"
            ]
          },
          "metadata": {
            "tags": []
          },
          "execution_count": 42
        }
      ]
    },
    {
      "cell_type": "code",
      "metadata": {
        "id": "9BqS42fpkPp-",
        "colab_type": "code",
        "colab": {}
      },
      "source": [
        "# Resposta\n",
        "# 268"
      ],
      "execution_count": null,
      "outputs": []
    },
    {
      "cell_type": "markdown",
      "metadata": {
        "id": "5egcILOLVM6U",
        "colab_type": "text"
      },
      "source": [
        "### Pergunta 6\n",
        "\n",
        "**Utilizando o método “train_test_split” como apresentado no enunciado, quantas instâncias (linhas) foram selecionadas para o conjunto de dados de treinamento do modelo?**\n",
        "\n",
        "a) 681\n",
        "\n",
        "b) 117\n",
        "\n",
        "c) 323\n",
        "\n",
        "d) 537"
      ]
    },
    {
      "cell_type": "code",
      "metadata": {
        "id": "NTmUhu7akZ4I",
        "colab_type": "code",
        "colab": {
          "base_uri": "https://localhost:8080/",
          "height": 34
        },
        "outputId": "6e95666e-04ec-4f68-c7c7-27c7886b3f12"
      },
      "source": [
        "X_train.shape"
      ],
      "execution_count": null,
      "outputs": [
        {
          "output_type": "execute_result",
          "data": {
            "text/plain": [
              "(537, 8)"
            ]
          },
          "metadata": {
            "tags": []
          },
          "execution_count": 47
        }
      ]
    },
    {
      "cell_type": "code",
      "metadata": {
        "id": "sfrC_nKkknTv",
        "colab_type": "code",
        "colab": {}
      },
      "source": [
        "# Resposta\n",
        "# 537 instâncias"
      ],
      "execution_count": null,
      "outputs": []
    },
    {
      "cell_type": "markdown",
      "metadata": {
        "id": "pfH4-qBEVOmU",
        "colab_type": "text"
      },
      "source": [
        "### Pergunta 7\n",
        "\n",
        "**Após dividir as colunas do dataframe entre entrada e saída, aplicar a normalização dos dados como apresentado no enunciado (MinMaxScaler()) e dividir esses dados entre treinamento e teste, aplique o algoritmo KNN. Qual é, aproximadamente, a acurácia do modelo?**\n",
        "\n",
        "a) 0,62\n",
        "\n",
        "b) 0,68\n",
        "\n",
        "c) 0,81\n",
        "\n",
        "d) 0,84"
      ]
    },
    {
      "cell_type": "code",
      "metadata": {
        "id": "-64Iu9P_kwN5",
        "colab_type": "code",
        "colab": {}
      },
      "source": [
        "# Realiza o treinamento do classificador\n",
        "clf_KNN = clf_KNN.fit(X_train,y_train)\n",
        "\n",
        "#Realiza a previsão de classificação \n",
        "y_pred = clf_KNN.predict(X_test)"
      ],
      "execution_count": null,
      "outputs": []
    },
    {
      "cell_type": "code",
      "metadata": {
        "id": "2B-xk3KNlGZC",
        "colab_type": "code",
        "colab": {
          "base_uri": "https://localhost:8080/",
          "height": 187
        },
        "outputId": "10721e0a-2bcd-47ba-a660-7765791b0286"
      },
      "source": [
        "# Avaliando a Acurácia\n",
        "\n",
        "print(\"Acurácia: {}\".format(accuracy_score(y_test, y_pred)))\n",
        "print(classification_report(y_test, y_pred))"
      ],
      "execution_count": null,
      "outputs": [
        {
          "output_type": "stream",
          "text": [
            "Acurácia: 0.6796536796536796\n",
            "              precision    recall  f1-score   support\n",
            "\n",
            "           0       0.74      0.78      0.76       151\n",
            "           1       0.54      0.49      0.51        80\n",
            "\n",
            "    accuracy                           0.68       231\n",
            "   macro avg       0.64      0.63      0.64       231\n",
            "weighted avg       0.67      0.68      0.68       231\n",
            "\n"
          ],
          "name": "stdout"
        }
      ]
    },
    {
      "cell_type": "code",
      "metadata": {
        "id": "Kg0IAF47laSJ",
        "colab_type": "code",
        "colab": {}
      },
      "source": [
        "# Resposta\n",
        "# 0,68"
      ],
      "execution_count": null,
      "outputs": []
    },
    {
      "cell_type": "markdown",
      "metadata": {
        "id": "kvJFJcH6VQOx",
        "colab_type": "text"
      },
      "source": [
        "### Pergunta 8\n",
        "\n",
        "**Após dividir as colunas do dataframe entre entrada e saída, aplicar a normalização dos dados como apresentado no enunciado (MinMaxScaler()) e dividir esses dados entre treinamento e teste, aplique o algoritmo Árvore de Decisão. Qual é, aproximadamente, a acurácia do modelo?**\n",
        "\n",
        "a) 0,58\n",
        "\n",
        "b) 0,70\n",
        "\n",
        "c) 0,88\n",
        "\n",
        "d) 0,80"
      ]
    },
    {
      "cell_type": "code",
      "metadata": {
        "colab_type": "code",
        "id": "vd1KD_H1mZ1f",
        "colab": {}
      },
      "source": [
        "# Realiza o treinamento do classificador\n",
        "clf_arvore = clf_arvore.fit(X_train,y_train)\n",
        "\n",
        "#Realiza a previsão de classificação \n",
        "y_pred = clf_arvore.predict(X_test)"
      ],
      "execution_count": null,
      "outputs": []
    },
    {
      "cell_type": "code",
      "metadata": {
        "colab_type": "code",
        "id": "d7YGR_6rmc3t",
        "colab": {
          "base_uri": "https://localhost:8080/",
          "height": 187
        },
        "outputId": "c95fd483-cbe0-4dee-cd22-38893ee38a64"
      },
      "source": [
        "# Avaliando a Acurácia\n",
        "\n",
        "print(\"Acurácia: {}\".format(accuracy_score(y_test, y_pred)))\n",
        "print(classification_report(y_test, y_pred))"
      ],
      "execution_count": null,
      "outputs": [
        {
          "output_type": "stream",
          "text": [
            "Acurácia: 0.696969696969697\n",
            "              precision    recall  f1-score   support\n",
            "\n",
            "           0       0.81      0.70      0.75       151\n",
            "           1       0.55      0.69      0.61        80\n",
            "\n",
            "    accuracy                           0.70       231\n",
            "   macro avg       0.68      0.69      0.68       231\n",
            "weighted avg       0.72      0.70      0.70       231\n",
            "\n"
          ],
          "name": "stdout"
        }
      ]
    },
    {
      "cell_type": "code",
      "metadata": {
        "colab_type": "code",
        "id": "rBsaTSvKmf9w",
        "colab": {}
      },
      "source": [
        "# Resposta\n",
        "# 0,70"
      ],
      "execution_count": null,
      "outputs": []
    },
    {
      "cell_type": "markdown",
      "metadata": {
        "id": "fSGUAz3iVRlz",
        "colab_type": "text"
      },
      "source": [
        "### Pergunta 9\n",
        "\n",
        "**Após dividir as colunas do dataframe entre entrada e saída, aplicar a normalização dos dados como apresentado no enunciado (MinMaxScaler()) e dividir esses dados entre treinamento e teste, aplique o algoritmo Floresta Randômica. Qual é, aproximadamente, a acurácia do modelo?**\n",
        "\n",
        "a) 0,84\n",
        "\n",
        "b) 0,62\n",
        "\n",
        "c) 0,81\n",
        "\n",
        "d) 0,74"
      ]
    },
    {
      "cell_type": "code",
      "metadata": {
        "colab_type": "code",
        "id": "vDBx0IA3mt2Z",
        "colab": {}
      },
      "source": [
        "# Realiza o treinamento do classificador\n",
        "clf_floresta = clf_floresta.fit(X_train,y_train)\n",
        "\n",
        "#Realiza a previsão de classificação \n",
        "y_pred = clf_floresta.predict(X_test)"
      ],
      "execution_count": null,
      "outputs": []
    },
    {
      "cell_type": "code",
      "metadata": {
        "colab_type": "code",
        "id": "60tXNjnlmvnC",
        "colab": {
          "base_uri": "https://localhost:8080/",
          "height": 187
        },
        "outputId": "c07de91b-7576-4ffb-f431-1ca84089fec9"
      },
      "source": [
        "# Avaliando a Acurácia\n",
        "\n",
        "print(\"Acurácia: {}\".format(accuracy_score(y_test, y_pred)))\n",
        "print(classification_report(y_test, y_pred))"
      ],
      "execution_count": null,
      "outputs": [
        {
          "output_type": "stream",
          "text": [
            "Acurácia: 0.7445887445887446\n",
            "              precision    recall  f1-score   support\n",
            "\n",
            "           0       0.81      0.80      0.80       151\n",
            "           1       0.63      0.64      0.63        80\n",
            "\n",
            "    accuracy                           0.74       231\n",
            "   macro avg       0.72      0.72      0.72       231\n",
            "weighted avg       0.75      0.74      0.74       231\n",
            "\n"
          ],
          "name": "stdout"
        }
      ]
    },
    {
      "cell_type": "code",
      "metadata": {
        "colab_type": "code",
        "id": "sxmui6_hmxZQ",
        "colab": {}
      },
      "source": [
        "# Resposta\n",
        "# 0,74"
      ],
      "execution_count": null,
      "outputs": []
    },
    {
      "cell_type": "markdown",
      "metadata": {
        "id": "pYE4_DPiVTfa",
        "colab_type": "text"
      },
      "source": [
        "### Pergunta 10\n",
        "\n",
        "**Após dividir as colunas do dataframe entre entrada e saída, aplicar a normalização dos dados como apresentado no enunciado (MinMaxScaler()) e dividir os dados entre treinamento e teste, aplique o algoritmo SVM. Qual é, aproximadamente, a acurácia do modelo?**\n",
        "\n",
        "a) 0,83\n",
        "\n",
        "b) 0,91\n",
        "\n",
        "c) 0,65\n",
        "\n",
        "d) 0,77"
      ]
    },
    {
      "cell_type": "code",
      "metadata": {
        "colab_type": "code",
        "id": "nXNbBuIhnEXT",
        "colab": {}
      },
      "source": [
        "# Realiza o treinamento do classificador\n",
        "clf_svm = clf_svm.fit(X_train,y_train)\n",
        "\n",
        "#Realiza a previsão de classificação \n",
        "y_pred = clf_svm.predict(X_test)"
      ],
      "execution_count": null,
      "outputs": []
    },
    {
      "cell_type": "code",
      "metadata": {
        "colab_type": "code",
        "id": "11DmmSAXnGtk",
        "colab": {
          "base_uri": "https://localhost:8080/",
          "height": 187
        },
        "outputId": "36f9b8f0-975f-436b-9866-754fe27946a3"
      },
      "source": [
        "# Avaliando a Acurácia\n",
        "\n",
        "print(\"Acurácia: {}\".format(accuracy_score(y_test, y_pred)))\n",
        "print(classification_report(y_test, y_pred))"
      ],
      "execution_count": null,
      "outputs": [
        {
          "output_type": "stream",
          "text": [
            "Acurácia: 0.7705627705627706\n",
            "              precision    recall  f1-score   support\n",
            "\n",
            "           0       0.78      0.90      0.84       151\n",
            "           1       0.74      0.53      0.61        80\n",
            "\n",
            "    accuracy                           0.77       231\n",
            "   macro avg       0.76      0.71      0.73       231\n",
            "weighted avg       0.77      0.77      0.76       231\n",
            "\n"
          ],
          "name": "stdout"
        }
      ]
    },
    {
      "cell_type": "code",
      "metadata": {
        "colab_type": "code",
        "id": "WtMpg4nWnJ2m",
        "colab": {}
      },
      "source": [
        "# Resposta\n",
        "# 0,77"
      ],
      "execution_count": null,
      "outputs": []
    },
    {
      "cell_type": "markdown",
      "metadata": {
        "id": "GEBHh5xkVU8e",
        "colab_type": "text"
      },
      "source": [
        "### Pergunta 11\n",
        "\n",
        "**Após dividir as colunas do dataframe entre entrada e saída, aplicar a normalização dos dados como apresentado no enunciado (MinMaxScaler()) e dividir os dados entre treinamento e teste, aplique o algoritmo MLP. Qual é, aproximadamente, a acurácia do modelo?**\n",
        "\n",
        "a) 0,83\n",
        "\n",
        "b) 0,73\n",
        "\n",
        "c) 0,65\n",
        "\n",
        "d) 0,91"
      ]
    },
    {
      "cell_type": "code",
      "metadata": {
        "colab_type": "code",
        "id": "exdmitfanT9R",
        "colab": {}
      },
      "source": [
        "# Realiza o treinamento do classificador\n",
        "clf_mlp = clf_mlp.fit(X_train,y_train)\n",
        "\n",
        "#Realiza a previsão de classificação \n",
        "y_pred = clf_mlp.predict(X_test)"
      ],
      "execution_count": null,
      "outputs": []
    },
    {
      "cell_type": "code",
      "metadata": {
        "colab_type": "code",
        "id": "65j8wZoznVqb",
        "colab": {
          "base_uri": "https://localhost:8080/",
          "height": 187
        },
        "outputId": "4394638f-a0dd-4346-f652-fc0d047ceb27"
      },
      "source": [
        "# Avaliando a Acurácia\n",
        "\n",
        "print(\"Acurácia: {}\".format(accuracy_score(y_test, y_pred)))\n",
        "print(classification_report(y_test, y_pred))"
      ],
      "execution_count": null,
      "outputs": [
        {
          "output_type": "stream",
          "text": [
            "Acurácia: 0.7316017316017316\n",
            "              precision    recall  f1-score   support\n",
            "\n",
            "           0       0.80      0.78      0.79       151\n",
            "           1       0.61      0.64      0.62        80\n",
            "\n",
            "    accuracy                           0.73       231\n",
            "   macro avg       0.70      0.71      0.71       231\n",
            "weighted avg       0.73      0.73      0.73       231\n",
            "\n"
          ],
          "name": "stdout"
        }
      ]
    },
    {
      "cell_type": "code",
      "metadata": {
        "colab_type": "code",
        "id": "QwiH_n0vnXH8",
        "colab": {}
      },
      "source": [
        "# Resposta\n",
        "# 0,73"
      ],
      "execution_count": null,
      "outputs": []
    },
    {
      "cell_type": "markdown",
      "metadata": {
        "id": "b0gDy-WIVWZI",
        "colab_type": "text"
      },
      "source": [
        "### Pergunta 12\n",
        "\n",
        "**Dentre todos os modelos implementados seguindo o enunciado deste trabalho prático, qual foi aquele que alcançou maior acurácia?**\n",
        "\n",
        "a) Árvore de decisão como classificador.\n",
        "\n",
        "b) SVM como classificador.\n",
        "\n",
        "c) MLP como classificador.\n",
        "\n",
        "d) KNN."
      ]
    },
    {
      "cell_type": "code",
      "metadata": {
        "id": "E3Vx3UFTnrnS",
        "colab_type": "code",
        "colab": {}
      },
      "source": [
        "# Resposta\n",
        "# SVM como classificador (0,77)"
      ],
      "execution_count": null,
      "outputs": []
    },
    {
      "cell_type": "markdown",
      "metadata": {
        "id": "OHPB3txpVX0i",
        "colab_type": "text"
      },
      "source": [
        "### Pergunta 13\n",
        "\n",
        "**Qual dos modelos implementados neste trabalho prático é classificado como um modelo de aprendizado de máquina não-supervisionado?**\n",
        "\n",
        "a) Apenas o KNN.\n",
        "\n",
        "b) O KNN e o SVM.\n",
        "\n",
        "c) Apenas o SVM.\n",
        "\n",
        "d) Nenhum deles."
      ]
    },
    {
      "cell_type": "code",
      "metadata": {
        "id": "KdmQpKwXoCoi",
        "colab_type": "code",
        "colab": {}
      },
      "source": [
        "# Resposta\n",
        "# Nenhum deles (todos possuem target)"
      ],
      "execution_count": null,
      "outputs": []
    },
    {
      "cell_type": "markdown",
      "metadata": {
        "id": "UKlkOd8OVZI6",
        "colab_type": "text"
      },
      "source": [
        "### Pergunta 14\n",
        "\n",
        "**Implemente o código 1 presente no enunciado do trabalho. Sobre este código, é INCORRETO afirmar que:**\n",
        "\n",
        "a) Foram implementadas, explicitamente, duas threads.\n",
        "\n",
        "b) A tarefa realizada pela funcao_1 sempre será finalizada antes da tarefa executada pela funcao_2.\n",
        "\n",
        "c) Se os valores da chamada sleep(randint()) forem alterados, o tempo de execução das threads pode ser modificado.\n",
        "\n",
        "d) Não foi implementado o paralelismo."
      ]
    },
    {
      "cell_type": "code",
      "metadata": {
        "id": "onBzMxudUxwq",
        "colab_type": "code",
        "colab": {}
      },
      "source": [
        "# Resposta\n",
        "# A tarefa realizada pela funcao_1 sempre será finalizada antes da tarfea executada pela funcao_2 (incorreto)"
      ],
      "execution_count": null,
      "outputs": []
    },
    {
      "cell_type": "markdown",
      "metadata": {
        "id": "yNjopXWmVaaO",
        "colab_type": "text"
      },
      "source": [
        "### Pergunta 15\n",
        "\n",
        "**Considere o código 1. Inverta os parâmetros de entrada para as funções 1 e 2 (entrada funcao_1=0 e entrada funcao_2=100). Após essas modificações, é INCORRETO afirmar que:**\n",
        "\n",
        "a) Se, além da modificação nos parâmetros de entrada das funções, forem realizadas alterações nas condições de paradas dos loops, podemos ter loops infinitos de\n",
        "execução.\n",
        "\n",
        "b) Se alterarmos, além dos parâmetros de entrada, os parâmetros da chamada sleep(randint()), é possível alterar o tempo de execução das threads.\n",
        "\n",
        "c) Será exibido no console a mensagem “Fim!”.\n",
        "\n",
        "d) A chamada t1.join() garante que a thread t1 finalizou a execução."
      ]
    },
    {
      "cell_type": "code",
      "metadata": {
        "id": "LDFjmMWtoY0Z",
        "colab_type": "code",
        "colab": {
          "base_uri": "https://localhost:8080/",
          "height": 34
        },
        "outputId": "959bde66-3b76-49bd-f138-2f00746a5ef7"
      },
      "source": [
        "if __name__ == \"__main__\":\n",
        "\n",
        "    t1 = threading.Thread(target = funcao_1, args=(0,))\n",
        "    t2 = threading.Thread(target = funcao_2, args=(100,))\n",
        "\n",
        "    t1.start()\n",
        "    t2.start()\n",
        "\n",
        "    t1.join()\n",
        "    t2.join()\n",
        "\n",
        "    print('Fim!')"
      ],
      "execution_count": null,
      "outputs": [
        {
          "output_type": "stream",
          "text": [
            "Fim!\n"
          ],
          "name": "stdout"
        }
      ]
    },
    {
      "cell_type": "code",
      "metadata": {
        "id": "372WnE20U-YD",
        "colab_type": "code",
        "colab": {}
      },
      "source": [
        "# Resposta\n",
        "# Se alterarmos, além dos parâmetros de entrada, os parâmetros da chamada sleep(randint()), é possível alterar o tempo de execução das threads. (incorreto)"
      ],
      "execution_count": null,
      "outputs": []
    }
  ]
}